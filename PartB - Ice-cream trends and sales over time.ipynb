{
 "cells": [
  {
   "cell_type": "markdown",
   "metadata": {},
   "source": [
    "# Ice Cream Trend of Below Zero - Ice Cream Store."
   ]
  },
  {
   "cell_type": "markdown",
   "metadata": {},
   "source": [
    "Importing libraries make the program more sophisticated. "
   ]
  },
  {
   "cell_type": "code",
   "execution_count": 1,
   "metadata": {},
   "outputs": [],
   "source": [
    "#import required libraries \n",
    "import pandas as pd\n",
    "import numpy as np\n",
    "import csv\n",
    "%matplotlib inline\n",
    "import matplotlib.pyplot as plt\n",
    "import datetime"
   ]
  },
  {
   "cell_type": "markdown",
   "metadata": {},
   "source": [
    "Read the csv files to get the data files contain."
   ]
  },
  {
   "cell_type": "code",
   "execution_count": 2,
   "metadata": {},
   "outputs": [],
   "source": [
    "#read the csv files\n",
    "Store_region = pd.read_csv(\"Region.csv\") \n",
    "Store_detail = pd.read_csv(\"StoreDetails.csv\")\n",
    "Weekly_sales = pd.read_csv(\"Weekly_Sales.csv\")"
   ]
  },
  {
   "cell_type": "markdown",
   "metadata": {},
   "source": [
    "The Store_region file contains data about the Below-Zero icecream store's different branches in different regions.\n",
    "It is clear that ice cream store has 45 branches in 5 different regions."
   ]
  },
  {
   "cell_type": "code",
   "execution_count": 3,
   "metadata": {},
   "outputs": [
    {
     "data": {
      "text/html": [
       "<div>\n",
       "<style scoped>\n",
       "    .dataframe tbody tr th:only-of-type {\n",
       "        vertical-align: middle;\n",
       "    }\n",
       "\n",
       "    .dataframe tbody tr th {\n",
       "        vertical-align: top;\n",
       "    }\n",
       "\n",
       "    .dataframe thead th {\n",
       "        text-align: right;\n",
       "    }\n",
       "</style>\n",
       "<table border=\"1\" class=\"dataframe\">\n",
       "  <thead>\n",
       "    <tr style=\"text-align: right;\">\n",
       "      <th></th>\n",
       "      <th>Store</th>\n",
       "      <th>Region</th>\n",
       "    </tr>\n",
       "  </thead>\n",
       "  <tbody>\n",
       "    <tr>\n",
       "      <th>0</th>\n",
       "      <td>1</td>\n",
       "      <td>A</td>\n",
       "    </tr>\n",
       "    <tr>\n",
       "      <th>1</th>\n",
       "      <td>2</td>\n",
       "      <td>A</td>\n",
       "    </tr>\n",
       "    <tr>\n",
       "      <th>2</th>\n",
       "      <td>3</td>\n",
       "      <td>A</td>\n",
       "    </tr>\n",
       "    <tr>\n",
       "      <th>3</th>\n",
       "      <td>4</td>\n",
       "      <td>A</td>\n",
       "    </tr>\n",
       "    <tr>\n",
       "      <th>4</th>\n",
       "      <td>5</td>\n",
       "      <td>A</td>\n",
       "    </tr>\n",
       "  </tbody>\n",
       "</table>\n",
       "</div>"
      ],
      "text/plain": [
       "   Store Region\n",
       "0      1      A\n",
       "1      2      A\n",
       "2      3      A\n",
       "3      4      A\n",
       "4      5      A"
      ]
     },
     "execution_count": 3,
     "metadata": {},
     "output_type": "execute_result"
    }
   ],
   "source": [
    "Store_region.head()"
   ]
  },
  {
   "cell_type": "markdown",
   "metadata": {},
   "source": [
    "Store_detail file shows the all 45 stores and gives information about temperature and unemployment on particular date."
   ]
  },
  {
   "cell_type": "code",
   "execution_count": 4,
   "metadata": {},
   "outputs": [
    {
     "data": {
      "text/html": [
       "<div>\n",
       "<style scoped>\n",
       "    .dataframe tbody tr th:only-of-type {\n",
       "        vertical-align: middle;\n",
       "    }\n",
       "\n",
       "    .dataframe tbody tr th {\n",
       "        vertical-align: top;\n",
       "    }\n",
       "\n",
       "    .dataframe thead th {\n",
       "        text-align: right;\n",
       "    }\n",
       "</style>\n",
       "<table border=\"1\" class=\"dataframe\">\n",
       "  <thead>\n",
       "    <tr style=\"text-align: right;\">\n",
       "      <th></th>\n",
       "      <th>Store</th>\n",
       "      <th>Date</th>\n",
       "      <th>Temperature</th>\n",
       "      <th>Unemployment</th>\n",
       "    </tr>\n",
       "  </thead>\n",
       "  <tbody>\n",
       "    <tr>\n",
       "      <th>0</th>\n",
       "      <td>1</td>\n",
       "      <td>5/02/2010</td>\n",
       "      <td>42.31</td>\n",
       "      <td>8.106</td>\n",
       "    </tr>\n",
       "    <tr>\n",
       "      <th>1</th>\n",
       "      <td>1</td>\n",
       "      <td>12/02/2010</td>\n",
       "      <td>38.51</td>\n",
       "      <td>8.106</td>\n",
       "    </tr>\n",
       "    <tr>\n",
       "      <th>2</th>\n",
       "      <td>1</td>\n",
       "      <td>19/02/2010</td>\n",
       "      <td>39.93</td>\n",
       "      <td>8.106</td>\n",
       "    </tr>\n",
       "    <tr>\n",
       "      <th>3</th>\n",
       "      <td>1</td>\n",
       "      <td>26/02/2010</td>\n",
       "      <td>46.63</td>\n",
       "      <td>8.106</td>\n",
       "    </tr>\n",
       "    <tr>\n",
       "      <th>4</th>\n",
       "      <td>1</td>\n",
       "      <td>5/03/2010</td>\n",
       "      <td>46.50</td>\n",
       "      <td>8.106</td>\n",
       "    </tr>\n",
       "  </tbody>\n",
       "</table>\n",
       "</div>"
      ],
      "text/plain": [
       "   Store        Date  Temperature  Unemployment\n",
       "0      1   5/02/2010        42.31         8.106\n",
       "1      1  12/02/2010        38.51         8.106\n",
       "2      1  19/02/2010        39.93         8.106\n",
       "3      1  26/02/2010        46.63         8.106\n",
       "4      1   5/03/2010        46.50         8.106"
      ]
     },
     "execution_count": 4,
     "metadata": {},
     "output_type": "execute_result"
    }
   ],
   "source": [
    "Store_detail.head()"
   ]
  },
  {
   "cell_type": "markdown",
   "metadata": {},
   "source": [
    "The Weekly_Sales file contains the information about weekly sale in stores on particular date."
   ]
  },
  {
   "cell_type": "code",
   "execution_count": 5,
   "metadata": {},
   "outputs": [
    {
     "data": {
      "text/html": [
       "<div>\n",
       "<style scoped>\n",
       "    .dataframe tbody tr th:only-of-type {\n",
       "        vertical-align: middle;\n",
       "    }\n",
       "\n",
       "    .dataframe tbody tr th {\n",
       "        vertical-align: top;\n",
       "    }\n",
       "\n",
       "    .dataframe thead th {\n",
       "        text-align: right;\n",
       "    }\n",
       "</style>\n",
       "<table border=\"1\" class=\"dataframe\">\n",
       "  <thead>\n",
       "    <tr style=\"text-align: right;\">\n",
       "      <th></th>\n",
       "      <th>Store</th>\n",
       "      <th>Date</th>\n",
       "      <th>Weekly_Sales</th>\n",
       "    </tr>\n",
       "  </thead>\n",
       "  <tbody>\n",
       "    <tr>\n",
       "      <th>0</th>\n",
       "      <td>1</td>\n",
       "      <td>5/02/2010</td>\n",
       "      <td>24924.50</td>\n",
       "    </tr>\n",
       "    <tr>\n",
       "      <th>1</th>\n",
       "      <td>1</td>\n",
       "      <td>12/02/2010</td>\n",
       "      <td>46039.49</td>\n",
       "    </tr>\n",
       "    <tr>\n",
       "      <th>2</th>\n",
       "      <td>1</td>\n",
       "      <td>19/02/2010</td>\n",
       "      <td>41595.55</td>\n",
       "    </tr>\n",
       "    <tr>\n",
       "      <th>3</th>\n",
       "      <td>1</td>\n",
       "      <td>26/02/2010</td>\n",
       "      <td>19403.54</td>\n",
       "    </tr>\n",
       "    <tr>\n",
       "      <th>4</th>\n",
       "      <td>1</td>\n",
       "      <td>5/03/2010</td>\n",
       "      <td>21827.90</td>\n",
       "    </tr>\n",
       "  </tbody>\n",
       "</table>\n",
       "</div>"
      ],
      "text/plain": [
       "   Store        Date  Weekly_Sales\n",
       "0      1   5/02/2010      24924.50\n",
       "1      1  12/02/2010      46039.49\n",
       "2      1  19/02/2010      41595.55\n",
       "3      1  26/02/2010      19403.54\n",
       "4      1   5/03/2010      21827.90"
      ]
     },
     "execution_count": 5,
     "metadata": {},
     "output_type": "execute_result"
    }
   ],
   "source": [
    "Weekly_sales.head()"
   ]
  },
  {
   "cell_type": "markdown",
   "metadata": {},
   "source": [
    "Two data files called Store_detail and Store_region are combined together and store the information in dataframe known as data.\n",
    "After merging the data it shows the data joined from both the files."
   ]
  },
  {
   "cell_type": "code",
   "execution_count": 6,
   "metadata": {},
   "outputs": [
    {
     "data": {
      "text/html": [
       "<div>\n",
       "<style scoped>\n",
       "    .dataframe tbody tr th:only-of-type {\n",
       "        vertical-align: middle;\n",
       "    }\n",
       "\n",
       "    .dataframe tbody tr th {\n",
       "        vertical-align: top;\n",
       "    }\n",
       "\n",
       "    .dataframe thead th {\n",
       "        text-align: right;\n",
       "    }\n",
       "</style>\n",
       "<table border=\"1\" class=\"dataframe\">\n",
       "  <thead>\n",
       "    <tr style=\"text-align: right;\">\n",
       "      <th></th>\n",
       "      <th>Store</th>\n",
       "      <th>Date</th>\n",
       "      <th>Temperature</th>\n",
       "      <th>Unemployment</th>\n",
       "      <th>Region</th>\n",
       "    </tr>\n",
       "  </thead>\n",
       "  <tbody>\n",
       "    <tr>\n",
       "      <th>0</th>\n",
       "      <td>1</td>\n",
       "      <td>5/02/2010</td>\n",
       "      <td>42.31</td>\n",
       "      <td>8.106</td>\n",
       "      <td>A</td>\n",
       "    </tr>\n",
       "    <tr>\n",
       "      <th>1</th>\n",
       "      <td>1</td>\n",
       "      <td>12/02/2010</td>\n",
       "      <td>38.51</td>\n",
       "      <td>8.106</td>\n",
       "      <td>A</td>\n",
       "    </tr>\n",
       "    <tr>\n",
       "      <th>2</th>\n",
       "      <td>1</td>\n",
       "      <td>19/02/2010</td>\n",
       "      <td>39.93</td>\n",
       "      <td>8.106</td>\n",
       "      <td>A</td>\n",
       "    </tr>\n",
       "    <tr>\n",
       "      <th>3</th>\n",
       "      <td>1</td>\n",
       "      <td>26/02/2010</td>\n",
       "      <td>46.63</td>\n",
       "      <td>8.106</td>\n",
       "      <td>A</td>\n",
       "    </tr>\n",
       "    <tr>\n",
       "      <th>4</th>\n",
       "      <td>1</td>\n",
       "      <td>5/03/2010</td>\n",
       "      <td>46.50</td>\n",
       "      <td>8.106</td>\n",
       "      <td>A</td>\n",
       "    </tr>\n",
       "  </tbody>\n",
       "</table>\n",
       "</div>"
      ],
      "text/plain": [
       "   Store        Date  Temperature  Unemployment Region\n",
       "0      1   5/02/2010        42.31         8.106      A\n",
       "1      1  12/02/2010        38.51         8.106      A\n",
       "2      1  19/02/2010        39.93         8.106      A\n",
       "3      1  26/02/2010        46.63         8.106      A\n",
       "4      1   5/03/2010        46.50         8.106      A"
      ]
     },
     "execution_count": 6,
     "metadata": {},
     "output_type": "execute_result"
    }
   ],
   "source": [
    "##merge the dataframes(Store_detail and Store_region) together\n",
    "data = Store_detail.merge(Store_region, on=\"Store\",suffixes=(\"\", \"_2\"))\n",
    "data.head()"
   ]
  },
  {
   "cell_type": "markdown",
   "metadata": {},
   "source": [
    "Merge the Weekly_sales file with other two ice cream data files i.e. Store_region and Store_detail in new dataframe called data1."
   ]
  },
  {
   "cell_type": "code",
   "execution_count": 7,
   "metadata": {},
   "outputs": [
    {
     "data": {
      "text/html": [
       "<div>\n",
       "<style scoped>\n",
       "    .dataframe tbody tr th:only-of-type {\n",
       "        vertical-align: middle;\n",
       "    }\n",
       "\n",
       "    .dataframe tbody tr th {\n",
       "        vertical-align: top;\n",
       "    }\n",
       "\n",
       "    .dataframe thead th {\n",
       "        text-align: right;\n",
       "    }\n",
       "</style>\n",
       "<table border=\"1\" class=\"dataframe\">\n",
       "  <thead>\n",
       "    <tr style=\"text-align: right;\">\n",
       "      <th></th>\n",
       "      <th>Store</th>\n",
       "      <th>Date</th>\n",
       "      <th>Temperature</th>\n",
       "      <th>Unemployment</th>\n",
       "      <th>Region</th>\n",
       "      <th>Weekly_Sales</th>\n",
       "    </tr>\n",
       "  </thead>\n",
       "  <tbody>\n",
       "    <tr>\n",
       "      <th>0</th>\n",
       "      <td>1</td>\n",
       "      <td>5/02/2010</td>\n",
       "      <td>42.31</td>\n",
       "      <td>8.106</td>\n",
       "      <td>A</td>\n",
       "      <td>24924.50</td>\n",
       "    </tr>\n",
       "    <tr>\n",
       "      <th>1</th>\n",
       "      <td>1</td>\n",
       "      <td>12/02/2010</td>\n",
       "      <td>38.51</td>\n",
       "      <td>8.106</td>\n",
       "      <td>A</td>\n",
       "      <td>46039.49</td>\n",
       "    </tr>\n",
       "    <tr>\n",
       "      <th>2</th>\n",
       "      <td>1</td>\n",
       "      <td>19/02/2010</td>\n",
       "      <td>39.93</td>\n",
       "      <td>8.106</td>\n",
       "      <td>A</td>\n",
       "      <td>41595.55</td>\n",
       "    </tr>\n",
       "    <tr>\n",
       "      <th>3</th>\n",
       "      <td>1</td>\n",
       "      <td>26/02/2010</td>\n",
       "      <td>46.63</td>\n",
       "      <td>8.106</td>\n",
       "      <td>A</td>\n",
       "      <td>19403.54</td>\n",
       "    </tr>\n",
       "    <tr>\n",
       "      <th>4</th>\n",
       "      <td>1</td>\n",
       "      <td>5/03/2010</td>\n",
       "      <td>46.50</td>\n",
       "      <td>8.106</td>\n",
       "      <td>A</td>\n",
       "      <td>21827.90</td>\n",
       "    </tr>\n",
       "  </tbody>\n",
       "</table>\n",
       "</div>"
      ],
      "text/plain": [
       "   Store        Date  Temperature  Unemployment Region  Weekly_Sales\n",
       "0      1   5/02/2010        42.31         8.106      A      24924.50\n",
       "1      1  12/02/2010        38.51         8.106      A      46039.49\n",
       "2      1  19/02/2010        39.93         8.106      A      41595.55\n",
       "3      1  26/02/2010        46.63         8.106      A      19403.54\n",
       "4      1   5/03/2010        46.50         8.106      A      21827.90"
      ]
     },
     "execution_count": 7,
     "metadata": {},
     "output_type": "execute_result"
    }
   ],
   "source": [
    "#merge the three dataframes together i.e. Store_region,Store_detail and Weekly_sales\n",
    "data1 = data.merge(Weekly_sales, on = (\"Store\",\"Date\"),suffixes = (\"\", \"_2\"))\n",
    "data1.head()"
   ]
  },
  {
   "cell_type": "markdown",
   "metadata": {},
   "source": [
    "Set the index by 'Store'."
   ]
  },
  {
   "cell_type": "code",
   "execution_count": 8,
   "metadata": {},
   "outputs": [
    {
     "data": {
      "text/html": [
       "<div>\n",
       "<style scoped>\n",
       "    .dataframe tbody tr th:only-of-type {\n",
       "        vertical-align: middle;\n",
       "    }\n",
       "\n",
       "    .dataframe tbody tr th {\n",
       "        vertical-align: top;\n",
       "    }\n",
       "\n",
       "    .dataframe thead th {\n",
       "        text-align: right;\n",
       "    }\n",
       "</style>\n",
       "<table border=\"1\" class=\"dataframe\">\n",
       "  <thead>\n",
       "    <tr style=\"text-align: right;\">\n",
       "      <th></th>\n",
       "      <th>Date</th>\n",
       "      <th>Temperature</th>\n",
       "      <th>Unemployment</th>\n",
       "      <th>Region</th>\n",
       "      <th>Weekly_Sales</th>\n",
       "    </tr>\n",
       "    <tr>\n",
       "      <th>Store</th>\n",
       "      <th></th>\n",
       "      <th></th>\n",
       "      <th></th>\n",
       "      <th></th>\n",
       "      <th></th>\n",
       "    </tr>\n",
       "  </thead>\n",
       "  <tbody>\n",
       "    <tr>\n",
       "      <th>1</th>\n",
       "      <td>5/02/2010</td>\n",
       "      <td>42.31</td>\n",
       "      <td>8.106</td>\n",
       "      <td>A</td>\n",
       "      <td>24924.50</td>\n",
       "    </tr>\n",
       "    <tr>\n",
       "      <th>1</th>\n",
       "      <td>12/02/2010</td>\n",
       "      <td>38.51</td>\n",
       "      <td>8.106</td>\n",
       "      <td>A</td>\n",
       "      <td>46039.49</td>\n",
       "    </tr>\n",
       "    <tr>\n",
       "      <th>1</th>\n",
       "      <td>19/02/2010</td>\n",
       "      <td>39.93</td>\n",
       "      <td>8.106</td>\n",
       "      <td>A</td>\n",
       "      <td>41595.55</td>\n",
       "    </tr>\n",
       "    <tr>\n",
       "      <th>1</th>\n",
       "      <td>26/02/2010</td>\n",
       "      <td>46.63</td>\n",
       "      <td>8.106</td>\n",
       "      <td>A</td>\n",
       "      <td>19403.54</td>\n",
       "    </tr>\n",
       "    <tr>\n",
       "      <th>1</th>\n",
       "      <td>5/03/2010</td>\n",
       "      <td>46.50</td>\n",
       "      <td>8.106</td>\n",
       "      <td>A</td>\n",
       "      <td>21827.90</td>\n",
       "    </tr>\n",
       "  </tbody>\n",
       "</table>\n",
       "</div>"
      ],
      "text/plain": [
       "             Date  Temperature  Unemployment Region  Weekly_Sales\n",
       "Store                                                            \n",
       "1       5/02/2010        42.31         8.106      A      24924.50\n",
       "1      12/02/2010        38.51         8.106      A      46039.49\n",
       "1      19/02/2010        39.93         8.106      A      41595.55\n",
       "1      26/02/2010        46.63         8.106      A      19403.54\n",
       "1       5/03/2010        46.50         8.106      A      21827.90"
      ]
     },
     "execution_count": 8,
     "metadata": {},
     "output_type": "execute_result"
    }
   ],
   "source": [
    "##set an index by \"store\"\n",
    "data2 = data1.set_index(\"Store\")\n",
    "data2.head()"
   ]
  },
  {
   "cell_type": "markdown",
   "metadata": {},
   "source": [
    "The given code shows the all ice cream stores in different regions."
   ]
  },
  {
   "cell_type": "code",
   "execution_count": 9,
   "metadata": {},
   "outputs": [
    {
     "data": {
      "text/plain": [
       "Store\n",
       "1     A\n",
       "1     A\n",
       "1     A\n",
       "1     A\n",
       "1     A\n",
       "1     A\n",
       "1     A\n",
       "1     A\n",
       "1     A\n",
       "1     A\n",
       "1     A\n",
       "1     A\n",
       "1     A\n",
       "1     A\n",
       "1     A\n",
       "1     A\n",
       "1     A\n",
       "1     A\n",
       "1     A\n",
       "1     A\n",
       "1     A\n",
       "1     A\n",
       "1     A\n",
       "1     A\n",
       "1     A\n",
       "1     A\n",
       "1     A\n",
       "1     A\n",
       "1     A\n",
       "1     A\n",
       "     ..\n",
       "45    E\n",
       "45    E\n",
       "45    E\n",
       "45    E\n",
       "45    E\n",
       "45    E\n",
       "45    E\n",
       "45    E\n",
       "45    E\n",
       "45    E\n",
       "45    E\n",
       "45    E\n",
       "45    E\n",
       "45    E\n",
       "45    E\n",
       "45    E\n",
       "45    E\n",
       "45    E\n",
       "45    E\n",
       "45    E\n",
       "45    E\n",
       "45    E\n",
       "45    E\n",
       "45    E\n",
       "45    E\n",
       "45    E\n",
       "45    E\n",
       "45    E\n",
       "45    E\n",
       "45    E\n",
       "Name: Region, Length: 6435, dtype: object"
      ]
     },
     "execution_count": 9,
     "metadata": {},
     "output_type": "execute_result"
    }
   ],
   "source": [
    "data2[\"Region\"]"
   ]
  },
  {
   "cell_type": "markdown",
   "metadata": {},
   "source": [
    "# Comparing sales in the five different regions."
   ]
  },
  {
   "cell_type": "code",
   "execution_count": 10,
   "metadata": {},
   "outputs": [
    {
     "data": {
      "text/plain": [
       "Text(0,0.5,'Sales')"
      ]
     },
     "execution_count": 10,
     "metadata": {},
     "output_type": "execute_result"
    },
    {
     "data": {
      "image/png": "[encoded data removed]",
      "text/plain": [
       "<Figure size 576x432 with 1 Axes>"
      ]
     },
     "metadata": {},
     "output_type": "display_data"
    }
   ],
   "source": [
    "data2.groupby(\"Region\")[\"Weekly_Sales\"].std().plot(kind=\"bar\", figsize = (8,6))\n",
    "plt.title(\"Sales by region\")\n",
    "plt.ylabel(\"Sales\")"
   ]
  },
  {
   "cell_type": "markdown",
   "metadata": {},
   "source": [
    "Creating a new column 'year' by extracting it from date column to analyse the sales trend in three years. "
   ]
  },
  {
   "cell_type": "code",
   "execution_count": 11,
   "metadata": {},
   "outputs": [
    {
     "data": {
      "text/html": [
       "<div>\n",
       "<style scoped>\n",
       "    .dataframe tbody tr th:only-of-type {\n",
       "        vertical-align: middle;\n",
       "    }\n",
       "\n",
       "    .dataframe tbody tr th {\n",
       "        vertical-align: top;\n",
       "    }\n",
       "\n",
       "    .dataframe thead th {\n",
       "        text-align: right;\n",
       "    }\n",
       "</style>\n",
       "<table border=\"1\" class=\"dataframe\">\n",
       "  <thead>\n",
       "    <tr style=\"text-align: right;\">\n",
       "      <th></th>\n",
       "      <th>Date</th>\n",
       "      <th>Temperature</th>\n",
       "      <th>Unemployment</th>\n",
       "      <th>Region</th>\n",
       "      <th>Weekly_Sales</th>\n",
       "      <th>Year</th>\n",
       "    </tr>\n",
       "    <tr>\n",
       "      <th>Store</th>\n",
       "      <th></th>\n",
       "      <th></th>\n",
       "      <th></th>\n",
       "      <th></th>\n",
       "      <th></th>\n",
       "      <th></th>\n",
       "    </tr>\n",
       "  </thead>\n",
       "  <tbody>\n",
       "    <tr>\n",
       "      <th>1</th>\n",
       "      <td>5/02/2010</td>\n",
       "      <td>42.31</td>\n",
       "      <td>8.106</td>\n",
       "      <td>A</td>\n",
       "      <td>24924.50</td>\n",
       "      <td>2010</td>\n",
       "    </tr>\n",
       "    <tr>\n",
       "      <th>1</th>\n",
       "      <td>12/02/2010</td>\n",
       "      <td>38.51</td>\n",
       "      <td>8.106</td>\n",
       "      <td>A</td>\n",
       "      <td>46039.49</td>\n",
       "      <td>2010</td>\n",
       "    </tr>\n",
       "    <tr>\n",
       "      <th>1</th>\n",
       "      <td>19/02/2010</td>\n",
       "      <td>39.93</td>\n",
       "      <td>8.106</td>\n",
       "      <td>A</td>\n",
       "      <td>41595.55</td>\n",
       "      <td>2010</td>\n",
       "    </tr>\n",
       "    <tr>\n",
       "      <th>1</th>\n",
       "      <td>26/02/2010</td>\n",
       "      <td>46.63</td>\n",
       "      <td>8.106</td>\n",
       "      <td>A</td>\n",
       "      <td>19403.54</td>\n",
       "      <td>2010</td>\n",
       "    </tr>\n",
       "    <tr>\n",
       "      <th>1</th>\n",
       "      <td>5/03/2010</td>\n",
       "      <td>46.50</td>\n",
       "      <td>8.106</td>\n",
       "      <td>A</td>\n",
       "      <td>21827.90</td>\n",
       "      <td>2010</td>\n",
       "    </tr>\n",
       "  </tbody>\n",
       "</table>\n",
       "</div>"
      ],
      "text/plain": [
       "             Date  Temperature  Unemployment Region  Weekly_Sales  Year\n",
       "Store                                                                  \n",
       "1       5/02/2010        42.31         8.106      A      24924.50  2010\n",
       "1      12/02/2010        38.51         8.106      A      46039.49  2010\n",
       "1      19/02/2010        39.93         8.106      A      41595.55  2010\n",
       "1      26/02/2010        46.63         8.106      A      19403.54  2010\n",
       "1       5/03/2010        46.50         8.106      A      21827.90  2010"
      ]
     },
     "execution_count": 11,
     "metadata": {},
     "output_type": "execute_result"
    }
   ],
   "source": [
    "#create year column\n",
    "data2['Year'] = pd.DatetimeIndex(data2['Date']).year\n",
    "data2.head()"
   ]
  },
  {
   "cell_type": "code",
   "execution_count": 12,
   "metadata": {},
   "outputs": [
    {
     "data": {
      "text/plain": [
       "Store\n",
       "1     2010\n",
       "1     2010\n",
       "1     2010\n",
       "1     2010\n",
       "1     2010\n",
       "1     2010\n",
       "1     2010\n",
       "1     2010\n",
       "1     2010\n",
       "1     2010\n",
       "1     2010\n",
       "1     2010\n",
       "1     2010\n",
       "1     2010\n",
       "1     2010\n",
       "1     2010\n",
       "1     2010\n",
       "1     2010\n",
       "1     2010\n",
       "1     2010\n",
       "1     2010\n",
       "1     2010\n",
       "1     2010\n",
       "1     2010\n",
       "1     2010\n",
       "1     2010\n",
       "1     2010\n",
       "1     2010\n",
       "1     2010\n",
       "1     2010\n",
       "      ... \n",
       "45    2012\n",
       "45    2012\n",
       "45    2012\n",
       "45    2012\n",
       "45    2012\n",
       "45    2012\n",
       "45    2012\n",
       "45    2012\n",
       "45    2012\n",
       "45    2012\n",
       "45    2012\n",
       "45    2012\n",
       "45    2012\n",
       "45    2012\n",
       "45    2012\n",
       "45    2012\n",
       "45    2012\n",
       "45    2012\n",
       "45    2012\n",
       "45    2012\n",
       "45    2012\n",
       "45    2012\n",
       "45    2012\n",
       "45    2012\n",
       "45    2012\n",
       "45    2012\n",
       "45    2012\n",
       "45    2012\n",
       "45    2012\n",
       "45    2012\n",
       "Name: Date, Length: 6435, dtype: object"
      ]
     },
     "execution_count": 12,
     "metadata": {},
     "output_type": "execute_result"
    }
   ],
   "source": [
    "data2.Date.str[-4:] ##different method to extract the years from date."
   ]
  },
  {
   "cell_type": "markdown",
   "metadata": {},
   "source": [
    "# The change in ice cream sales over the period 2010 to 2012."
   ]
  },
  {
   "cell_type": "code",
   "execution_count": 13,
   "metadata": {},
   "outputs": [
    {
     "name": "stdout",
     "output_type": "stream",
     "text": [
      "sales 2010: 42843534.379999995\n",
      "sales 2011: 45349314.39999997\n",
      "sales 2012: 35445927.76000003\n"
     ]
    },
    {
     "data": {
      "image/png": "[encoded data removed]",
      "text/plain": [
       "<Figure size 432x288 with 1 Axes>"
      ]
     },
     "metadata": {},
     "output_type": "display_data"
    }
   ],
   "source": [
    "#initialising variables\n",
    "a=0\n",
    "sum2010=0\n",
    "sum2011=0\n",
    "sum2012=0\n",
    "year=[]\n",
    "#open and read csv into readCSV variable\n",
    "with open('Weekly_Sales.csv') as csvfile:\n",
    "    readCSV = csv.reader(csvfile, delimiter=',')\n",
    "    #calculate year wise sales \n",
    "    for row in readCSV:\n",
    "        if a is 0:\n",
    "            a=1\n",
    "        else:\n",
    "            #print(row)\n",
    "            a=row[1].split(\"/\")\n",
    "            #print(a[2])\n",
    "            if int(a[2]) == int(2010):\n",
    "                sum2010+=float(row[2])\n",
    "            if int(a[2]) == int(2011):\n",
    "                sum2011+=float(row[2])\n",
    "            if int(a[2]) == int(2012):\n",
    "                sum2012+=float(row[2])\n",
    "            #print(row[0],row[1],row[2])\n",
    "print(\"sales 2010: \"+str(sum2010)+\"\\nsales 2011: \"+str(sum2011)+\"\\nsales 2012: \"+str(sum2012))\n",
    "#formation of graph\n",
    "\n",
    "#data = [go.Bar( x=['2010','2011','2012'], y=[sum2010,sum2011,sum2012] )]\n",
    "#py.iplot(data, filename='pandas-time-series')\n",
    "objectsABC = ('2010','2011','2012')\n",
    "pos = np.arange(len(objectsABC))\n",
    "performance = [sum2010,sum2011,sum2012]\n",
    "plt.bar(pos, performance, align='center', alpha=1)\n",
    "plt.xticks(pos, objectsABC)\n",
    "plt.ylabel('Sales')\n",
    "plt.title('Seles by years')\n",
    "plt.show()"
   ]
  },
  {
   "cell_type": "markdown",
   "metadata": {},
   "source": [
    "# Showing the weekly sales trend per store"
   ]
  },
  {
   "cell_type": "code",
   "execution_count": 14,
   "metadata": {},
   "outputs": [
    {
     "data": {
      "text/plain": [
       "Text(0,0.5,'Weekly sales')"
      ]
     },
     "execution_count": 14,
     "metadata": {},
     "output_type": "execute_result"
    },
    {
     "data": {
      "image/png": "[encoded data removed]",
      "text/plain": [
       "<Figure size 864x360 with 1 Axes>"
      ]
     },
     "metadata": {},
     "output_type": "display_data"
    }
   ],
   "source": [
    "##total weekly sales per store\n",
    "data2.groupby(\"Store\")[\"Weekly_Sales\"].mean().plot(kind =\"bar\",figsize = (12,5))\n",
    "plt.title(\"Sales by Store\")\n",
    "plt.ylabel(\"Weekly sales\")"
   ]
  },
  {
   "cell_type": "markdown",
   "metadata": {},
   "source": [
    "# compare sales against the different store details (i.e. temperature and unemployment) to see what the relationship between them is"
   ]
  },
  {
   "cell_type": "code",
   "execution_count": 15,
   "metadata": {},
   "outputs": [
    {
     "data": {
      "text/html": [
       "<div>\n",
       "<style scoped>\n",
       "    .dataframe tbody tr th:only-of-type {\n",
       "        vertical-align: middle;\n",
       "    }\n",
       "\n",
       "    .dataframe tbody tr th {\n",
       "        vertical-align: top;\n",
       "    }\n",
       "\n",
       "    .dataframe thead th {\n",
       "        text-align: right;\n",
       "    }\n",
       "</style>\n",
       "<table border=\"1\" class=\"dataframe\">\n",
       "  <thead>\n",
       "    <tr style=\"text-align: right;\">\n",
       "      <th></th>\n",
       "      <th>Date</th>\n",
       "      <th>Temperature</th>\n",
       "      <th>Unemployment</th>\n",
       "      <th>Region</th>\n",
       "      <th>Weekly_Sales</th>\n",
       "      <th>Year</th>\n",
       "      <th>AvgSales</th>\n",
       "    </tr>\n",
       "    <tr>\n",
       "      <th>Store</th>\n",
       "      <th></th>\n",
       "      <th></th>\n",
       "      <th></th>\n",
       "      <th></th>\n",
       "      <th></th>\n",
       "      <th></th>\n",
       "      <th></th>\n",
       "    </tr>\n",
       "  </thead>\n",
       "  <tbody>\n",
       "    <tr>\n",
       "      <th>1</th>\n",
       "      <td>5/02/2010</td>\n",
       "      <td>42.31</td>\n",
       "      <td>8.106</td>\n",
       "      <td>A</td>\n",
       "      <td>24924.50</td>\n",
       "      <td>2010</td>\n",
       "      <td>24.92450</td>\n",
       "    </tr>\n",
       "    <tr>\n",
       "      <th>1</th>\n",
       "      <td>12/02/2010</td>\n",
       "      <td>38.51</td>\n",
       "      <td>8.106</td>\n",
       "      <td>A</td>\n",
       "      <td>46039.49</td>\n",
       "      <td>2010</td>\n",
       "      <td>46.03949</td>\n",
       "    </tr>\n",
       "    <tr>\n",
       "      <th>1</th>\n",
       "      <td>19/02/2010</td>\n",
       "      <td>39.93</td>\n",
       "      <td>8.106</td>\n",
       "      <td>A</td>\n",
       "      <td>41595.55</td>\n",
       "      <td>2010</td>\n",
       "      <td>41.59555</td>\n",
       "    </tr>\n",
       "    <tr>\n",
       "      <th>1</th>\n",
       "      <td>26/02/2010</td>\n",
       "      <td>46.63</td>\n",
       "      <td>8.106</td>\n",
       "      <td>A</td>\n",
       "      <td>19403.54</td>\n",
       "      <td>2010</td>\n",
       "      <td>19.40354</td>\n",
       "    </tr>\n",
       "    <tr>\n",
       "      <th>1</th>\n",
       "      <td>5/03/2010</td>\n",
       "      <td>46.50</td>\n",
       "      <td>8.106</td>\n",
       "      <td>A</td>\n",
       "      <td>21827.90</td>\n",
       "      <td>2010</td>\n",
       "      <td>21.82790</td>\n",
       "    </tr>\n",
       "  </tbody>\n",
       "</table>\n",
       "</div>"
      ],
      "text/plain": [
       "             Date  Temperature  Unemployment Region  Weekly_Sales  Year  \\\n",
       "Store                                                                     \n",
       "1       5/02/2010        42.31         8.106      A      24924.50  2010   \n",
       "1      12/02/2010        38.51         8.106      A      46039.49  2010   \n",
       "1      19/02/2010        39.93         8.106      A      41595.55  2010   \n",
       "1      26/02/2010        46.63         8.106      A      19403.54  2010   \n",
       "1       5/03/2010        46.50         8.106      A      21827.90  2010   \n",
       "\n",
       "       AvgSales  \n",
       "Store            \n",
       "1      24.92450  \n",
       "1      46.03949  \n",
       "1      41.59555  \n",
       "1      19.40354  \n",
       "1      21.82790  "
      ]
     },
     "execution_count": 15,
     "metadata": {},
     "output_type": "execute_result"
    }
   ],
   "source": [
    "data2[\"AvgSales\"] =data2 [\"Weekly_Sales\"]/1000\n",
    "data2.head()"
   ]
  },
  {
   "cell_type": "code",
   "execution_count": 16,
   "metadata": {},
   "outputs": [
    {
     "data": {
      "text/plain": [
       "Text(0,0.5,'Avg sale and Temperature')"
      ]
     },
     "execution_count": 16,
     "metadata": {},
     "output_type": "execute_result"
    },
    {
     "data": {
      "image/png": "[encoded data removed]",
      "text/plain": [
       "<Figure size 1080x432 with 1 Axes>"
      ]
     },
     "metadata": {},
     "output_type": "display_data"
    }
   ],
   "source": [
    "data2.groupby(\"Store\")[\"AvgSales\",\"Temperature\"].mean().plot(kind=\"line\", figsize = (15,6))\n",
    "plt.title(\"Sales agaist different store details\")\n",
    "plt.ylabel(\"Avg sale and Temperature\" )"
   ]
  }
 ],
 "metadata": {
  "kernelspec": {
   "display_name": "Python 3",
   "language": "python",
   "name": "python3"
  },
  "language_info": {
   "codemirror_mode": {
    "name": "ipython",
    "version": 3
   },
   "file_extension": ".py",
   "mimetype": "text/x-python",
   "name": "python",
   "nbconvert_exporter": "python",
   "pygments_lexer": "ipython3",
   "version": "3.6.5"
  }
 },
 "nbformat": 4,
 "nbformat_minor": 2
}
